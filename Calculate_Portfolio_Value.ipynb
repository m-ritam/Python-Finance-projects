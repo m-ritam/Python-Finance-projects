{
  "nbformat": 4,
  "nbformat_minor": 0,
  "metadata": {
    "colab": {
      "provenance": [],
      "toc_visible": true,
      "authorship_tag": "ABX9TyNbe20J+vRdASFE69iaP4kl"
    },
    "kernelspec": {
      "name": "python3",
      "display_name": "Python 3"
    },
    "language_info": {
      "name": "python"
    }
  },
  "cells": [
    {
      "cell_type": "code",
      "execution_count": 1,
      "metadata": {
        "id": "6z7KOkf8yJOe"
      },
      "outputs": [],
      "source": [
        "import pandas as pd\n",
        "from google.colab import drive"
      ]
    },
    {
      "cell_type": "code",
      "source": [
        "drive.mount('/content/drive')"
      ],
      "metadata": {
        "colab": {
          "base_uri": "https://localhost:8080/"
        },
        "id": "Uh9eIL8gy0pl",
        "outputId": "a8fe1abd-ead6-456f-992c-4977271c88c3"
      },
      "execution_count": 2,
      "outputs": [
        {
          "output_type": "stream",
          "name": "stdout",
          "text": [
            "Mounted at /content/drive\n"
          ]
        }
      ]
    },
    {
      "cell_type": "code",
      "source": [
        "file_path = \"/content/drive/My Drive/Excel file to use in colab/2_portfolio_stock_prices.xlsx\""
      ],
      "metadata": {
        "id": "pEb3rGsa0Ldf"
      },
      "execution_count": 3,
      "outputs": []
    },
    {
      "cell_type": "code",
      "source": [
        "df = pd.read_excel(file_path)"
      ],
      "metadata": {
        "id": "l2CowVQj0VjQ"
      },
      "execution_count": 4,
      "outputs": []
    },
    {
      "cell_type": "code",
      "source": [
        "df[\"Portfolio Value\"] = df[\"Stock Price\"] * df[\"Shares Held\"]"
      ],
      "metadata": {
        "id": "xJSn6Bty0ZRl"
      },
      "execution_count": 5,
      "outputs": []
    },
    {
      "cell_type": "code",
      "source": [
        "print(df)"
      ],
      "metadata": {
        "colab": {
          "base_uri": "https://localhost:8080/"
        },
        "id": "TukKY70I0gSf",
        "outputId": "e01bddbe-4a90-44a1-e578-d48a097c8920"
      },
      "execution_count": 7,
      "outputs": [
        {
          "output_type": "stream",
          "name": "stdout",
          "text": [
            "         Date  Stock Price  Shares Held  Portfolio Value\n",
            "0  2024-01-01          202            4              808\n",
            "1  2024-01-02          448           89            39872\n",
            "2  2024-01-03          370           60            22200\n",
            "3  2024-01-04          206           14             2884\n",
            "4  2024-01-05          171            9             1539\n",
            "5  2024-01-06          288           90            25920\n",
            "6  2024-01-07          120           53             6360\n",
            "7  2024-01-08          202            2              404\n",
            "8  2024-01-09          221           84            18564\n",
            "9  2024-01-10          314           92            28888\n",
            "10 2024-01-11          430           60            25800\n",
            "11 2024-01-12          187           71            13277\n",
            "12 2024-01-13          472           44            20768\n",
            "13 2024-01-14          199            8             1592\n",
            "14 2024-01-15          459           47            21573\n",
            "15 2024-01-16          251           35             8785\n",
            "16 2024-01-17          230           78            17940\n",
            "17 2024-01-18          249           81            20169\n",
            "18 2024-01-19          408           36            14688\n",
            "19 2024-01-20          357           50            17850\n",
            "20 2024-01-21          443            4             1772\n",
            "21 2024-01-22          393            2              786\n",
            "22 2024-01-23          485            6             2910\n",
            "23 2024-01-24          291           54            15714\n",
            "24 2024-01-25          376            4             1504\n",
            "25 2024-01-26          260           54            14040\n",
            "26 2024-01-27          413           93            38409\n",
            "27 2024-01-28          121           63             7623\n",
            "28 2024-01-29          352           18             6336\n",
            "29 2024-01-30          335           90            30150\n",
            "30 2024-01-31          444           44            19536\n",
            "31 2024-02-01          148           34             5032\n",
            "32 2024-02-02          158           74            11692\n",
            "33 2024-02-03          269           62            16678\n",
            "34 2024-02-04          287           14             4018\n",
            "35 2024-02-05          370           95            35150\n",
            "36 2024-02-06          289           48            13872\n",
            "37 2024-02-07          274           15             4110\n",
            "38 2024-02-08          150           72            10800\n",
            "39 2024-02-09          463           78            36114\n",
            "40 2024-02-10          154           87            13398\n",
            "41 2024-02-11          343           62            21266\n",
            "42 2024-02-12          419           40            16760\n",
            "43 2024-02-13          230           85            19550\n",
            "44 2024-02-14          406           80            32480\n",
            "45 2024-02-15          234           82            19188\n",
            "46 2024-02-16          120           53             6360\n",
            "47 2024-02-17          428           24            10272\n",
            "48 2024-02-18          266           26             6916\n",
            "49 2024-02-19          373           89            33197\n"
          ]
        }
      ]
    }
  ]
}
